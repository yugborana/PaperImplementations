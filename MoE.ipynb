{
 "cells": [
  {
   "cell_type": "code",
   "execution_count": 1,
   "metadata": {},
   "outputs": [],
   "source": [
    "import torch\n",
    "import torch.nn as nn"
   ]
  },
  {
   "cell_type": "code",
   "execution_count": 2,
   "metadata": {},
   "outputs": [],
   "source": [
    "class Expert(nn.Module):\n",
    "    def __init__(self, hidden_dim: int, multiplier: int):\n",
    "        super().__init__()\n",
    "        self.expert = nn.Sequential(\n",
    "            nn.Linear(hidden_dim, multiplier * hidden_dim),\n",
    "            nn.GELU(),\n",
    "            nn.Linear(multiplier * hidden_dim, hidden_dim)\n",
    "        )\n",
    "\n",
    "    def forward(self, x: torch.tensor):\n",
    "        return self.expert(x)"
   ]
  },
  {
   "cell_type": "code",
   "execution_count": 3,
   "metadata": {},
   "outputs": [],
   "source": [
    "class DenseMoE(nn.Module):\n",
    "    def __init__(self, num_experts: int, hidden_dim: int, multiplier: int):\n",
    "        super().__init__()\n",
    "        self.router = nn.Linear(hidden_dim, num_experts)\n",
    "        self.expert_layer = nn.ModuleList([Expert(hidden_dim, multiplier) for _ in range(num_experts)])\n",
    "\n",
    "    def forward(self, x: torch.tensor):\n",
    "        weights = torch.softmax(self.router(x), dim=-1)\n",
    "        stack = torch.stack([self.expert(x) for expert in self.expert_layer], dim=2)\n",
    "        output = stack * weights.unsqueeze(-1)\n",
    "        output = torch.sum(output, dim=2)\n",
    "        return output"
   ]
  },
  {
   "cell_type": "code",
   "execution_count": null,
   "metadata": {},
   "outputs": [],
   "source": []
  }
 ],
 "metadata": {
  "kernelspec": {
   "display_name": "Python 3",
   "language": "python",
   "name": "python3"
  },
  "language_info": {
   "codemirror_mode": {
    "name": "ipython",
    "version": 3
   },
   "file_extension": ".py",
   "mimetype": "text/x-python",
   "name": "python",
   "nbconvert_exporter": "python",
   "pygments_lexer": "ipython3",
   "version": "3.11.9"
  }
 },
 "nbformat": 4,
 "nbformat_minor": 2
}
